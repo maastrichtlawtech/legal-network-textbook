{
 "cells": [
  {
   "cell_type": "markdown",
   "id": "503d979e",
   "metadata": {
    "id": "EL5fMTlA-StX"
   },
   "source": [
    "# 1 Network Analysis: An Introduction"
   ]
  },
  {
   "cell_type": "markdown",
   "id": "3a368d28",
   "metadata": {
    "id": "y95ofcDAI986"
   },
   "source": [
    "## 1.1 What Is Network Analysis?\n",
    "\n",
    "The purpose of this book is to introduce law students with some technical skills (or the willingness to learn them) to the method of network analysis. Network analysis can be seen as an applied or empirical offshoot of graph theory, which can be used to study relationships between entities. Talk about entities and relationships is now necessarily vague because, as a method, network analysis can be applied to a wide variety of situations. For example, in a study of how a virues spreads entities can be patients, and relationships represent contagions. In a study of academic citations, entities can be articles and relations can be citations. In a criminal network, entities can be suspects and relationships financial transfers. In a social network, illustrated below, entities can be persons (or online profiles) and relations friendship links.\n",
    "\n",
    "<em>Figure 1: Example of social media network</em>\n",
    "\n",
    "<img src=\"images/ch1/exampleofsocialmedia.png\" alt=\"drawing\" width=\"400\"/>\n",
    "\n",
    "<font size=\"2\">(Source: Wikipedia)</font>\n",
    "\n",
    "This general method can be, and has been, succesfully applied to legal research questions. In a legal context, entities can be cases, and relationships citations between cases. Or entities can be statutes, and relationships references to other statutes. Or entities can be states, and relationships treaties shared in common (here sharing a treaty counts as a link, and the more treaties shared the stronger the link). Concrete examples of impactful legal research using network analysis are provided in section 1.3 below. \n",
    "\n",
    "Network analysis presents significant advantages for legal research. Law is not characterized by the presence of large numerical datasets (as one may find in economics, or public policy). Absent such datasets, more traditional research methods like regression are often inapplicable, unreliable due to lack of sufficient data. Moreover, relations are prominent in law. The meaning or significance of a case and a statute will often depend on its relationship to other cases or statutes. Traditional research methods like regression do not capture this, as they treat each entity (here often called observation) as independent from each other. Qualitative analysis has an undeniable importance in law. Although it has quantitative elements, network analysis does not compete with qualitative research. Rather it straddles the qualitative and quantitative domains. Network research can arise from relationships identified qualitatively. Finally, operational knowledge of network analysis does not require an extensive mathematical background. Basic mathematic skills can be sufficient to provide a legal researcher with an effective, managemable tool.\n"
   ]
  },
  {
   "cell_type": "markdown",
   "id": "8d7240e6",
   "metadata": {},
   "source": [
    "## 1.2 Origins of Network Analysis\n",
    "\n",
    "Network analysis stems from graph theory. The foundations for graph theory were laid by Leonhard Euler. In 1736 Euler proved that the problem of 'The Seven Bridges of Königsberg' (currently Kaliningrad, Russia) could not be solved. \n",
    "\n",
    "<img src=\"images/ch1/konigsberg.png\" alt=\"drawing\" width=\"400\"/>\n",
    "\n",
    "<font size=\"2\">(Source: Google Maps)</font>\n",
    "\n",
    "Königsberg was divided by the Pregel River, and it had two islands that were connected to each other and to the city's mainland by seven bridges. The mathematical problem that Euler set upon solving was to design a walk that would include the two parts of the mainland as well as the two islands where the person would cross each of the bridges exactly once.\n",
    "\n",
    "<img src=\"images/ch1/konigsberg_bridges.png\" alt=\"drawing\" width=\"150\"/>\n",
    "\n",
    " ![image2](images/ch1/konisberg_bridges_2.png)\n",
    " \n",
    " ![image2](images/ch1/konisberg_bridges_3.png)\n",
    "\n",
    "<font size=\"2\">Source: Wikipedia</font>\n",
    "\n",
    "Euler demonstrated that the 'Seven Bridges of Königsberg' problem does not have a solution. The possibility of having a walk through town while crossing every bridge exactly once, depends on the number land areas (mainland + islands) and on the number of bridges. Euler proved that the desired walk (now knwon as an \"Eulerian path\") could only take place if the land areas are connected and include exactly zero or two areas with an odd number of bridges. Königsberg had four land areas and seven bridges at the time, making it impossible to make an Eulerian path through it.\n",
    "\n",
    "The seven bridges were bombed in World War II. Five bridges were rebuilt. A Eulerian path through the bridges became possible after the reconstruction (in the figure below: 1->2->3->4->5). Now, two land areas (in the figure below: B+C) have two bridges, whereas the other two land areas (in the figure below: A+D) have three bridges. This means that there are exactly two land areas with an odd number of bridges.\n",
    "\n",
    "![images](images/ch1/konisberg_bridges_4.png)\n",
    "\n",
    "<font size=\"2\">Source: Wikipedia</font>\n",
    "\n",
    "Euler's problem could not be tackled without a way of formalizing relationships between entities (here bridges and land areas). Graph theory provides the architecture for such formalization. Network analysis arises as offshoot from graph theory where it is generally the case that: (1) One tpically deals with bigger graphs. Graphs hundreds or thousands of entities may be intractable for graph theory, but normal for network anslysis.\n",
    "(2) The graphs may have properties assigned to them (a bridge can be wooden bridge or a stone bridge) In this way graphs stand for real entities, and not purely abstract. (3) The relationships are statistical and not purely formal.\n",
    "\n",
    "While graph theory is an abstract domain of mathematics, network analysis is a method that can be more directly applied to research in other disciplines. The relationship between graph theory and network analysis is further discussed in section 2.7."
   ]
  },
  {
   "cell_type": "markdown",
   "id": "157681d85949a3e6",
   "metadata": {},
   "source": [
    "## 1.3 Research Questions for Legal Network Analysis\n",
    "\n",
    "Network analysis focuses on relational patterns and structures that arise from interaction between the entities (called 'nodes). This approach allows analyzing a variety of networks, ranging from online cyber communities and corporate relations networks to social movements, political affiliations, sports clubs, and scholarly communities. Although there are many different categories of networks, they can more generally be grouped under the headings of technological networks (distribution, transportation, Internet), information networks (citation, discourse), and social networks (friends, professional) (Newman 2018).\n",
    "\n",
    "Network analysis can also be a relevant approach in a legal context. We refer to these situations as legal network analysis. Various studies exist where it has been applied to examine citation patterns of courts to identify sub-topics and precedents within the network. The network analytical approach can also be relevant for other purposes, for instance when conducting research on organized crime syndicates and how they are organized.\n",
    "\n",
    "Here, we illustrate the use of network analysis in the legal domain by means of several examples. Because legal network analysis often concerns the application to court decisions or legislation, this will be reflected in the examples that are discussed.\n",
    "\n",
    "* In [\"*Goodbye van Gend en Loos, Hello Bosman*?\"](https://doi.org/10.1111/eulj.12077) Derlen and Lindholm used network analysis to compare the precedent value of cases of the Court of Justice of the European Union. Using citation counts as a metric, the authors found that less well-known cases like *Bosman* and *Dassonville* garnered more citations than famous cases like *van Gend and Loos*, *Costa v. ENEL*, *Brasserie du Pêcheur*, and *United Brands*.\n",
    "\n",
    "* Fowler and Leon's [\"*The Authority of Supreme Court Precedent*\"](https://doi.org/10.1016/j.socnet.2007.05.001) is a seminal study of network analysis in the legal field. This study analyzed the complete network of 30,288 majority opinions written by the U.S. Supreme Court and the citations in the opinions from 1754 to 2002. The authors found that reversed judgments are more important than other judgments, that judgments that overrule previous judgments become and remain more important, and that overruling decisions are grounded in past precedents. To explore the citation patterns over time, the authors partitioned the network based on periods (e.g., 1754-1800, 1754-1801, 1754-1802, etc.) and compared the citations for each of the partitions. This allowed the authors to, for instance, observe that some judgments would gather their citations in the first years after its publication whereas other judgments would continuously collect citations over time.\n",
    "\n",
    "* In [\"*Precedent in International Courts: A Network Analysis of Case Citations by the European Court of Human Rights*\"](https://doi.org/10.1017/S0007123411000433) Lupu and Voeten analyzed 7,319 European Court of Human Rights (ECtHR) judgments up to and including 2006. Among other things, the authors were interested in the question of whether the judgments could be grouped based on substantive reasons (as opposed to the judgments being grouped based on, for instance, the respondent country). The authors found that the different communities consisted of different topics. For instance, one community consisted of judgments with the keywords 'life', 'effective remedy', 'positive obligation', and 'inhuman treatment', whereas other communities concerned procedural matters ('fair hearing', 'lawful arrest or detention', 'reasonable time') or fundamental freedoms ('freedom of expression', 'necessary in a democratic society', 'protection of the rights of others', 'respect for private life'). \n",
    "\n",
    "* In [\"*Spreading and Shifting Costs of Lateral Control Among Peers: A Structural Analysis at the Individual Level*](https://doi.org/10.1023/A:1004759418226), Lazega and Krackhardt used network analysis in order to understand the complex dynamics taking palce within a firm. The authors studied a corporate law firm with 71 lawyers (36 partners and 35 associates) in three offices. Their work provided perspectives on how partners foster cooperation, resolve conflicts, and preserve institutional stability. The study identified different leverage styles employed by partners, reflecting varying levels of seniority and approaches to managing control costs. \n",
    "\n",
    "* Network analysis can also be used for intelligence and criminal investigations. One may identify central members and their roles in the network or map interactions between entities in the network. Different entities may be connected, for instance, individuals and addresses, addresses and crime locations, individuals and organizations, individuals and individuals (through communication), and crimes and crime features. This way, certain types of crimes may be clustered and connected to certain individuals, organizations, or types of individuals and organizations. For an example of this type of research see Seidler and Adderley's [\"*Criminal Network Analysis inside Law Enforcement Agencies: A Data-Mining System Approach under the National Intelligence Model*\"](https://doi.org/10.1350/ijps.2013.15.4.321).\n",
    "\n",
    "* Network analysis has also been used in patent studies, for instance, to test whether a certain inventor (e.g., Bill Gates) has invented in a wider variety of areas than another inventor (e.g., Mark Zuckerberg). This type of analysis can be carried out by computing the similarity score between inventions after having placed the inventor's creations within a semantic framework. The similarity scores can be used to construct an expertise network that visualizes the inventor's innovations along with their respective similarities. Such an analysis can yield insight into possible patent rights infringements. For an example of this approach see Whalen, Lungeanu, DeChurch and Contractor's work in [\"*Patent Similarity Data and Innovation Metrics*\"]( https://doi.org/10.1111/jels.12261).\n",
    "\n",
    "Based on the examples above, we can already identify a variety of possible research questions one may want to answer with legal network analysis:\n",
    "<ul>\n",
    "    <li>What are the most important precedents?</li>\n",
    "    <li>How does case importance change over time?</li>\n",
    "    <li>Have certain legal topics or legal concepts gained or lost importance over time?</li>\n",
    "    <li>Which clusters of decisions can be distinguished?</li>\n",
    "    <li>How do law firm partners exercise control over others in the firm?</li>\n",
    "    <li>How can network analysis be used to provide relevant timely and actionable intelligence on criminal networks?</li>\n",
    "</ul>\n",
    "\n",
    "These sample questions illustrate that legal network analysis can be used for the empirical or computational studies of both positive law (law as it exists in codes and decisions) and of social phenomena relevant to the law (e.g., criminal networks, corporate influence).\n"
   ]
  },
  {
   "metadata": {
    "id": "yQg_qNAPoHEk"
   },
   "cell_type": "markdown",
   "source": [
    "\n",
    "\n",
    "## 1.4 Relational data\n",
    "\n",
    "Network analysis excells at dealing with relational data. In traditional quantitative methods, data represents (or is supposed to represent) independent observations. Consider the table below:\n",
    "\n",
    "| Student Name | Country of Origin | Age | Grade |\n",
    "|:-------------|:------------------|:----:|-------:|\n",
    "| John Doe     | United States     | 17   | A      |\n",
    "| Emily Chen   | China             | 16   | B      |\n",
    "| Michael Brown| Australia        | 18   | C      |\n",
    "| Sophia Patel  | India             | 15   | A-     |\n",
    "| Olivia White | Canada            | 19   | B+     |\n",
    "\n",
    "These are, one would presume, independent observations. Adding another row with a student, Robert Jackson, from England, of age 20, and a score of C+, does not affect the data of any of the prior rows. Should we discover that the age of Emily Chen has been incorrectly recorded, and it is 18, this will not affect any other observation.\n",
    "\n",
    "In relational data, the addition, deletion or modification of an observation (ie. of a row) can affect various values of other observations. For example, consider this semi-fictional, AI generated, data representing London subway stations.\n",
    "\n",
    "| **Name** | **Location** | **Lines Available**                                | **Reachable from King's Cross** |\n",
    "| --- | --- |----------------------------------------------------|--------------------|\n",
    "| Baker Street | Central London | Bakerloo, Jubilee, Metropolitan                    | Yes                |\n",
    "| Liverpool Street | East End of Central London | Circle, Hammersmith & City, Metropolitan, Northern | Yes |\n",
    "| Westminster | West End of Central London | District, Circle, Jubilee, Victoria                | No |\n",
    "| Oxford Circus | Central London | Bakerloo, Central, Victoria                        | Yes                |\n",
    "| Tottenham Court Road | Central London | Central, Piccadilly                                | Yes                |\n",
    "\n",
    "Westmister is not reacheable from King's Cross. However, the addition of a new subway station (say St Pancras) may render other other stations \"reacheable\", and thus modify the variables of pre-existing observations. Networks (or graphs) as a data structure are viable for representing such, dependent, relational data points.\n",
    "\n",
    "A jurist with some training will see quickly that data in law is often relational. The meaning of one statue may depend on the meaning of other relevant statutes. The validity of a precedent may depend on other precedents. Correct legal judgment implies being sensitive to how new facts change the significance of facts taht came before: breaking and entering into a property is normally tresspass, but should not be so regarded if it is the only way to save oneself from a storm (cfr. Vermont Supreme Court, Ploof v. Putnam, 81 Vt. 471). Taking an analogy from chess, if fidelity to the sources of law represents the King in Law (if you disregard it, you lose or forfeit the game), it cannot be doubted that context is Queen"
   ],
   "id": "ccc5de9a"
  },
  {
   "metadata": {},
   "cell_type": "markdown",
   "source": [
    "## 1.5 Bridging the qualitative quantiative divide\n",
    "\n",
    "One final point of interest is that network analysis can create useful linkages between qualitative and quantitative research methods. We must take the labels \"quantaitive\" and \"qualitative\" with a grain of salt. The contrast is misleading: quantitative analysis requires qualitative judgment, and quantitative methods can be used to model qualitative relationships, etc. Such caveats notwithstanding the explanation that follows aligns with way these terms are commonly used.\n",
    "\n",
    "Purely qualitative data can be subject to network analysis. How this can be done is illustrated in Chapter 6 of this textbook. The central point is that qualitative judgments about different entities (documents, cases, articles of legislation, discourses) can be used to relate these entities and thus form a network. Once the network is formed, network analysis algorithms can (as those introduced in Chatpers 3 and 4) can be used to find relationships between these entities. These relationships are \"quantitative\", in the sense that they produce numerical rankings or orderings, and can even be given statistical estimates such as confidence intervals (possibly through bootstrap methods, see for example Gel et al 2017).\n",
    "\n",
    "Beyond this, the \"quantification\" that network analysis provides allows researchers to have insights into qualitative datasets that are hard to come by, or hard to justify, by purely qualitative approaches. For example, a researcher might not be able to see connections between different documents or cases that can only be revealed by a network setup. Or the researcher might intuitively identify differnet clusters in the dataset, but will not be able to provide a strong, reproducible justification for those findings. A network algorithm can therefore help extend the reach of qualitative judgment, and provide it with a degree of validation that is normally not available to it.\n"
   ],
   "id": "ebfda6d1998f4566"
  },
  {
   "cell_type": "markdown",
   "id": "b3515b1b",
   "metadata": {},
   "source": [
    "## 1.6 Recurring examples.\n",
    "\n",
    "In this book, we use a variety of examples to explain key concepts of legal network analysis. These include classic examples, which depart from legal research, but are useful in order to introduce key concepts and algorithms. These classic examples include the Krackhardt Kite graph which is purely conceptual in nature, and the Zachary Karate Club network and Florentine Families marriages network, which are classics of social resaerch using network analysis.\n",
    "\n",
    "For legal research, we will be relying heavily on a network of drone laws used in the study \"Retrieving relevant EU drone legislation with citation analysis\" by [van Dijck, On, Snel and Nanda (2023)](https://www.mdpi.com/2504-446X/7/8/490). In this study, network analysis was used as a way to help retrieve the EU legislation that is relevant for regulating the use of unmanned aerial vehicles, or drones. The use network analysis for the purpose of data retrieval is novel and promising. It provides an alternative to logic based (boolean) and NLP based (text-similarity) data retrieval.\n",
    "\n",
    "In the study, the authors first collected expert judgment of relevant drone legislation as its \"ground truth\" or \"gold standard\". Afterwards the study designated one or two well-known laws relevant for regulating the use of drones as the \"source\" and retrieved the legislation that either refers to the source (\"target depth\") or that the source refers to (\"source depth\") forming a network of retrieved data. Eventually the different networks produced (by differing selected sources, source depths and target depths) were compared with the judgment of experts, in order to assess their effectiveness and potential for retrieving legal data.\n",
    "\n",
    "In this book we will use one of the best scoring networks, not as the end product of the analysis, but as our starting point to work with the concepts of centrality and community detection in a purely legal context.  Using network analysis on this dataset, we can better understand which laws are central to a lawful use of drones in various sectors.\n"
   ]
  },
  {
   "cell_type": "markdown",
   "id": "1cec50cc",
   "metadata": {},
   "source": [
    "## 1.7 Mathematics and Python\n",
    "\n",
    "The ideal reader of this book will have some basic mathematical knowledge, and some knowledge of Python, including common libraries for working with data. In this case, the reader will be able to engage with the concepts presented directly. However the book should not prove inaccessible to those with rusty mathematics or lack of experience with scripting languages. With some patience, it should be possible for the reader to quickly catch up. In particular, directed at law students, the book tries to verbally explain all the notation, instead of assuming its meaning is evident.\n",
    "\n",
    "Likewise, it is possible to approach this book from a conceptual perspective only, and skip the technical aspects. While this is possible, the best learning experience will be had by someone who is willing to \"follow along\", the code, the math, or both."
   ]
  },
  {
   "metadata": {},
   "cell_type": "code",
   "outputs": [],
   "execution_count": null,
   "source": "",
   "id": "4cb002d4ff033515"
  }
 ],
 "metadata": {
  "kernelspec": {
   "display_name": "Python 3 (ipykernel)",
   "language": "python",
   "name": "python3"
  },
  "language_info": {
   "codemirror_mode": {
    "name": "ipython",
    "version": 3
   },
   "file_extension": ".py",
   "mimetype": "text/x-python",
   "name": "python",
   "nbconvert_exporter": "python",
   "pygments_lexer": "ipython3",
   "version": "3.13.3"
  },
  "vscode": {
   "interpreter": {
    "hash": "aee8b7b246df8f9039afb4144a1f6fd8d2ca17a180786b69acc140d282b71a49"
   }
  }
 },
 "nbformat": 4,
 "nbformat_minor": 5
}
