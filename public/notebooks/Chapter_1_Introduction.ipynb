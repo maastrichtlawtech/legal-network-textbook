{
 "cells": [
  {
   "cell_type": "markdown",
   "id": "503d979e",
   "metadata": {
    "id": "EL5fMTlA-StX"
   },
   "source": [
    "# 1 Network Analysis: An Introduction"
   ]
  },
  {
   "cell_type": "markdown",
   "id": "3a368d28",
   "metadata": {
    "id": "y95ofcDAI986"
   },
   "source": [
    "## 1.1 What Is Network Analysis?\n",
    "\n",
    "The purpose of this book is to introduce law students with some technical skills (or the willingness to learn them) to the method of network analysis. Network analysis can be seen as an applied or empirical offshoot of graph theory, which can be used to study relationships between entities. Talk about entities and relationships is now necessarily vague because, as a method, network analysis can be applied to a wide variety of situations. For example, in a study of how a virues spreads entities can be patients, and relationships represent contagions. In a study of academic citations, entities can be articles and relations can be citations. In a criminal network, entities can be suspects and relationships financial transfers. In a social network, illustrated below, entities can be persons (or online profiles) and relations friendship links.\n",
    "\n",
    "<em>Figure 1: Example of social media network</em>\n",
    "\n",
    "<img src=\"images/ch1/exampleofsocialmedia.png\" alt=\"drawing\" width=\"400\"/>\n",
    "\n",
    "<font size=\"2\">(Source: Wikipedia)</font>\n",
    "\n",
    "This general method can be, and has been, succesfully applied to legal research questions. In a legal context, entities can be cases, and relationships citations between cases. Or entities can be statutes, and relationships references to other statutes. Or entities can be states, and relationships treaties shared in common (here sharing a treaty counts as a link, and the more treaties shared the stronger the link). Concrete examples of impactful legal research using network analysis are provided in section 1.3 below. \n",
    "\n",
    "Network analysis presents significant advantages for legal research. Law is not characterized by the presence of large numerical datasets (as one may find in economics, or public policy). Absent such datasets, more traditional research methods like regression are often inapplicable, unreliable due to lack of sufficient data. Moreover, relations are prominent in law. The meaning or significance of a case and a statute will often depend on its relationship to other cases or statutes. Traditional research methods like regression do not capture this, as they treat each entity (here often called observation) as independent from each other. Qualitative analysis has an undeniable importance in law. Although it has quantitative elements, network analysis does not compete with qualitative research. Rather it straddles the qualitative and quantitative domains. Network research can arise from relationships identified qualitatively. Finally, operational knowledge of network analysis does not require an extensive mathematical background. Basic mathematic skills can be sufficient to provide a legal researcher with an effective, managemable tool.\n"
   ]
  },
  {
   "cell_type": "markdown",
   "id": "8d7240e6",
   "metadata": {},
   "source": [
    "## 1.2 Origins of Network Analysis\n",
    "\n",
    "Network analysis stems from graph theory. The foundations for graph theory were laid by Leonhard Euler. In 1736 Euler proved that the problem of 'The Seven Bridges of Königsberg' (currently Kaliningrad, Russia) could not be solved. \n",
    "\n",
    "<img src=\"images/ch1/konigsberg.png\" alt=\"drawing\" width=\"400\"/>\n",
    "\n",
    "<font size=\"2\">(Source: Google Maps)</font>\n",
    "\n",
    "Königsberg was divided by the Pregel River, and it had two islands that were connected to each other and to the city's mainland by seven bridges. The mathematical problem that Euler set upon solving was to design a walk that would include the two parts of the mainland as well as the two islands where the person would cross each of the bridges exactly once.\n",
    "\n",
    "<img src=\"images/ch1/konigsberg_bridges.png\" alt=\"drawing\" width=\"150\"/>\n",
    "\n",
    " ![image2](images/ch1/konisberg_bridges_2.png)\n",
    " \n",
    " ![image2](images/ch1/konisberg_bridges_3.png)\n",
    "\n",
    "<font size=\"2\">Source: Wikipedia</font>\n",
    "\n",
    "Euler demonstrated that the 'Seven Bridges of Königsberg' problem does not have a solution. The possibility of having a walk through town while crossing every bridge exactly once, depends on the number land areas (mainland + islands) and on the number of bridges. Euler proved that the desired walk (now knwon as an \"Eulerian path\") could only take place if the land areas are connected and include exactly zero or two areas with an odd number of bridges. Königsberg had four land areas and seven bridges at the time, making it impossible to make an Eulerian path through it.\n",
    "\n",
    "The seven bridges were bombed in World War II. Five bridges were rebuilt. A Eulerian path through the bridges became possible after the reconstruction (in the figure below: 1->2->3->4->5). Now, two land areas (in the figure below: B+C) have two bridges, whereas the other two land areas (in the figure below: A+D) have three bridges. This means that there are exactly two land areas with an odd number of bridges.\n",
    "\n",
    "![images](images/ch1/konisberg_bridges_4.png)\n",
    "\n",
    "<font size=\"2\">Source: Wikipedia</font>\n",
    "\n",
    "Euler's problem could not be tackled without a way of formalizing relationships between entities (here bridges and land areas). Graph theory provides the architecture for such formalization. Network analysis arises as offshoot from graph theory where it is generally the case that: (1) One tpically deals with bigger graphs. Graphs hundreds or thousands of entities may be intractable for graph theory, but normal for network anslysis.\n",
    "(2) The graphs may have properties assigned to them (a bridge can be wooden bridge or a stone bridge) In this way graphs stand for real entities, and not purely abstract. (3) The relationships are statistical and not purely formal.\n",
    "\n",
    "While graph theory is an abstract domain of mathematics, network analysis is a method that can be more directly applied to research in other disciplines. The relationship between graph theory and network analysis is further discussed in section 2.7."
   ]
  },
  {
   "cell_type": "markdown",
   "id": "ccc5de9a",
   "metadata": {
    "id": "yQg_qNAPoHEk"
   },
   "source": [
    "## 1.3 Research Questions for Legal Network Analysis\n",
    "\n",
    "Network analysis focuses on relational patterns and structures that arise from interaction between the entities (called 'nodes). This approach allows analyzing a variety of networks, ranging from online cyber communities and corporate relations networks to social movements, political affiliations, sports clubs, and scholarly communities. Although there are many different categories of networks, they can more generally be grouped under the headings of technological networks (distribution, transportation, Internet), information networks (citation, discourse), and social networks (friends, professional) (Newman 2018).\n",
    "\n",
    "Network analysis can also be a relevant approach in a legal context. We refer to these situations as legal network analysis. Various studies exist where it has been applied to examine citation patterns of courts to identify sub-topics and precedents within the network. The network analytical approach can also be relevant for other purposes, for instance when conducting research on organized crime syndicates and how they are organized.\n",
    "\n",
    "Here, we illustrate the use of network analysis in the legal domain by means of several examples. Because legal network analysis often concerns the application to court decisions or legislation, this will be reflected in the examples that are discussed.\n",
    "\n",
    "* In [\"*Goodbye van Gend en Loos, Hello Bosman*?\"](https://doi.org/10.1111/eulj.12077) Derlen and Lindholm used network analysis to compare the precedent value of cases of the Court of Justice of the European Union. Using citation counts as a metric, the authors found that less well-known cases like *Bosman* and *Dassonville* garnered more citations than famous cases like *van Gend and Loos*, *Costa v. ENEL*, *Brasserie du Pêcheur*, and *United Brands*.\n",
    "\n",
    "* Fowler and Leon's [\"*The Authority of Supreme Court Precedent*\"](https://doi.org/10.1016/j.socnet.2007.05.001) is a seminal study of network analysis in the legal field. This study analyzed the complete network of 30,288 majority opinions written by the U.S. Supreme Court and the citations in the opinions from 1754 to 2002. The authors found that reversed judgments are more important than other judgments, that judgments that overrule previous judgments become and remain more important, and that overruling decisions are grounded in past precedents. To explore the citation patterns over time, the authors partitioned the network based on periods (e.g., 1754-1800, 1754-1801, 1754-1802, etc.) and compared the citations for each of the partitions. This allowed the authors to, for instance, observe that some judgments would gather their citations in the first years after its publication whereas other judgments would continuously collect citations over time.\n",
    "\n",
    "* In [\"*Precedent in International Courts: A Network Analysis of Case Citations by the European Court of Human Rights*\"](https://doi.org/10.1017/S0007123411000433) Lupu and Voeten analyzed 7,319 European Court of Human Rights (ECtHR) judgments up to and including 2006. Among other things, the authors were interested in the question of whether the judgments could be grouped based on substantive reasons (as opposed to the judgments being grouped based on, for instance, the respondent country). The authors found that the different communities consisted of different topics. For instance, one community consisted of judgments with the keywords 'life', 'effective remedy', 'positive obligation', and 'inhuman treatment', whereas other communities concerned procedural matters ('fair hearing', 'lawful arrest or detention', 'reasonable time') or fundamental freedoms ('freedom of expression', 'necessary in a democratic society', 'protection of the rights of others', 'respect for private life'). \n",
    "\n",
    "* In [\"*Spreading and Shifting Costs of Lateral Control Among Peers: A Structural Analysis at the Individual Level*](https://doi.org/10.1023/A:1004759418226), Lazega and Krackhardt used network analysis in order to understand the complex dynamics taking palce within a firm. The authors studied a corporate law firm with 71 lawyers (36 partners and 35 associates) in three offices. Their work provided perspectives on how partners foster cooperation, resolve conflicts, and preserve institutional stability. The study identified different leverage styles employed by partners, reflecting varying levels of seniority and approaches to managing control costs. \n",
    "\n",
    "* Network analysis can also be used for intelligence and criminal investigations. One may identify central members and their roles in the network or map interactions between entities in the network. Different entities may be connected, for instance, individuals and addresses, addresses and crime locations, individuals and organizations, individuals and individuals (through communication), and crimes and crime features. This way, certain types of crimes may be clustered and connected to certain individuals, organizations, or types of individuals and organizations. For an example of this type of research see Seidler and Adderley's [\"*Criminal Network Analysis inside Law Enforcement Agencies: A Data-Mining System Approach under the National Intelligence Model*\"](https://doi.org/10.1350/ijps.2013.15.4.321).\n",
    "\n",
    "* Network analysis has also been used in patent studies, for instance, to test whether a certain inventor (e.g., Bill Gates) has invented in a wider variety of areas than another inventor (e.g., Mark Zuckerberg). This type of analysis can be carried out by computing the similarity score between inventions after having placed the inventor's creations within a semantic framework. The similarity scores can be used to construct an expertise network that visualizes the inventor's innovations along with their respective similarities. Such an analysis can yield insight into possible patent rights infringements. For an example of this approach see Whalen, Lungeanu, DeChurch and Contractor's work in [\"*Patent Similarity Data and Innovation Metrics*\"]( https://doi.org/10.1111/jels.12261).\n",
    "\n",
    "Based on the examples above, we can already identify a variety of possible research questions one may want to answer with legal network analysis:\n",
    "<ul>\n",
    "    <li>What are the most important precedents?</li>\n",
    "    <li>How does case importance change over time?</li>\n",
    "    <li>Have certain legal topics or legal concepts gained or lost importance over time?</li>\n",
    "    <li>Which clusters of decisions can be distinguished?</li>\n",
    "    <li>How do law firm partners exercise control over others in the firm?</li>\n",
    "    <li>How can network analysis be used to provide relevant timely and actionable intelligence on criminal networks?</li>\n",
    "</ul>\n",
    "\n",
    "These sample questions illustrate that legal network analysis can be used for the empirical or computational studies of both positive law (law as it exists in codes and decisions) and of social phenomena relevant to the law (e.g., criminal networks, corporate influence).\n",
    "\n"
   ]
  },
  {
   "cell_type": "markdown",
   "id": "b3515b1b",
   "metadata": {},
   "source": [
    "## 1.4. Recurring examples.\n",
    "\n",
    "In this book, we use a variety of examples to explain key concepts of legal network analysis. We use a network on drone legislation throughout the book to show how a network analysis is conducted and evolves from a research question all the way to the software used to answer the question. The drone example is derived from a study that explored whether the finding of possible relevant drone legislation can be automated through reference-based retrieval. It focused on whether the references in legislation to other laws can help identify possibly relevant drone legislation. The [study](https://www.mdpi.com/2504-446X/7/8/490) compared the results to the laws identified by subject matter experts.\n",
    "\n",
    "For the purpose of this book, we modify the study's research question and ask which clusters of legislation can be distinghuished and which laws are the most important in the network. In principle, almost all legislation can become relevant, ranging from general liability law (e.g., in instances of drone accidents) to environmental law (e.g., disturbing wildlife), yet it can nevertheless be interesting to focus on specific clusters of laws related to drone regulation. For instance, aviation law directly governs the use of drones in airspace while privacy laws become relevant when drones are used for surveillance or data collection. By analyzing how drone legislation is related to other pieces of legislation we can better understand which laws are central to a lawful use of drones in various sectors. \n",
    "We are hence interested in whether citations from and to specific drone legislation help us identify certain areas of the law (e.g., rules regarding drones' technical requirements, rules regarding drone flights, privacy legislation, cybersecurity) that might be relevant and which laws are the most central ones in the network of drone legislation."
   ]
  },
  {
   "cell_type": "markdown",
   "id": "1cec50cc",
   "metadata": {},
   "source": [
    "## 1.5 Mathematics and Python\n",
    "\n",
    "The ideal reader of this book will have some basic mathematical knowledge, and some knowledge of Python, including common libraries for working with data. In this case, the reader will be able to engage with the concepts presented directly. However the book should not prove inaccessible to those with rusty mathematics or lack of experience with scripting languages. With some patience, it should be possible for the reader to quickly catch up. In particular, directed at law students, the book tries to verbally explain all the notation, instead of assuming its meaning is evident.\n",
    "\n",
    "Likewise, it is possible to approach this book from a conceptual perspective only, and skip the technical aspects. While this is possible, the best learning experience will be had by someone who is willing to \"follow along\", the code, the math, or both."
   ]
  }
 ],
 "metadata": {
  "kernelspec": {
   "display_name": "Python 3 (ipykernel)",
   "language": "python",
   "name": "python3"
  },
  "language_info": {
   "codemirror_mode": {
    "name": "ipython",
    "version": 3
   },
   "file_extension": ".py",
   "mimetype": "text/x-python",
   "name": "python",
   "nbconvert_exporter": "python",
   "pygments_lexer": "ipython3",
   "version": "3.13.3"
  },
  "vscode": {
   "interpreter": {
    "hash": "aee8b7b246df8f9039afb4144a1f6fd8d2ca17a180786b69acc140d282b71a49"
   }
  }
 },
 "nbformat": 4,
 "nbformat_minor": 5
}
