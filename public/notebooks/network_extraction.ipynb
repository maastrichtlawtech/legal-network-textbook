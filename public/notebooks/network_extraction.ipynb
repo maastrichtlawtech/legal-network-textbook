{
 "cells": [
  {
   "cell_type": "code",
   "id": "initial_id",
   "metadata": {
    "collapsed": true,
    "ExecuteTime": {
     "end_time": "2025-06-24T13:27:53.703560Z",
     "start_time": "2025-06-24T13:27:53.686288Z"
    }
   },
   "source": [
    "import json\n",
    "import networkx as nx\n",
    "from pdfminer.high_level import extract_text\n",
    "import os\n",
    "import re\n",
    "import networkx as nx\n",
    "import textdistance\n",
    "import seaborn as sns\n"
   ],
   "outputs": [],
   "execution_count": 38
  },
  {
   "metadata": {
    "ExecuteTime": {
     "end_time": "2025-06-24T13:08:48.796244Z",
     "start_time": "2025-06-24T13:08:14.301045Z"
    }
   },
   "cell_type": "code",
   "source": [
    "texts = []\n",
    "for i in os.listdir(\"data/extraterritorial_cases\"):\n",
    "    t = extract_text(os.path.join(\"data/extraterritorial_cases\", i))\n",
    "    texts.append(t)"
   ],
   "id": "7267e2a81ebed714",
   "outputs": [],
   "execution_count": 27
  },
  {
   "metadata": {
    "ExecuteTime": {
     "end_time": "2025-06-24T13:08:48.802450Z",
     "start_time": "2025-06-24T13:08:48.800254Z"
    }
   },
   "cell_type": "code",
   "source": [
    "def get_name(astring):\n",
    "    try:\n",
    "        res = re.search(r\"CASE OF.+\\n\", astring)\n",
    "        res = res.group(0)\n",
    "        return res.strip(\"\\n\")\n",
    "    except:\n",
    "        return \"Unkown\"\n",
    "\n",
    "def get_appno(astring):\n",
    "    try:\n",
    "        res = re.search(r\"\\d{5}\\/\\d{2}|\\d{4}\\/\\d{2}\", astring)\n",
    "        return res.group(0)\n",
    "    except:\n",
    "        return \"Unkown\"\n",
    "\n",
    "def get_year(astring):\n",
    "    try:\n",
    "        res = re.search(r\"\\d{4}\\n\", astring)\n",
    "        return res.group(0).strip(\"\\n\")\n",
    "    except:\n",
    "        return \"Unkown\"\n"
   ],
   "id": "db8d45e01fa2d2b5",
   "outputs": [],
   "execution_count": 28
  },
  {
   "metadata": {
    "ExecuteTime": {
     "end_time": "2025-06-24T13:08:48.808320Z",
     "start_time": "2025-06-24T13:08:48.806369Z"
    }
   },
   "cell_type": "code",
   "source": [
    "storage = []\n",
    "for i in texts:\n",
    "    results = dict()\n",
    "    results[\"name\"] = get_name(i)\n",
    "    results[\"appno\"] = get_appno(i)\n",
    "    results[\"year\"] = get_year(i)\n",
    "    results[\"text\"] = i\n",
    "    storage.append(results)\n"
   ],
   "id": "545ccc0ccae55341",
   "outputs": [],
   "execution_count": 29
  },
  {
   "metadata": {
    "ExecuteTime": {
     "end_time": "2025-06-24T13:08:48.815080Z",
     "start_time": "2025-06-24T13:08:48.813407Z"
    }
   },
   "cell_type": "code",
   "source": "g = nx.Graph()",
   "id": "4bc6bfe426d6d974",
   "outputs": [],
   "execution_count": 30
  },
  {
   "metadata": {
    "ExecuteTime": {
     "end_time": "2025-06-24T13:08:48.825014Z",
     "start_time": "2025-06-24T13:08:48.823210Z"
    }
   },
   "cell_type": "code",
   "source": [
    "for i in storage:\n",
    "    g.add_node(i[\"appno\"], name = i[\"name\"], year = i[\"year\"], text = i[\"text\"])"
   ],
   "id": "e98b1db2ba6b87a7",
   "outputs": [],
   "execution_count": 31
  },
  {
   "metadata": {
    "ExecuteTime": {
     "end_time": "2025-06-24T13:08:59.139201Z",
     "start_time": "2025-06-24T13:08:48.828254Z"
    }
   },
   "cell_type": "code",
   "source": [
    "edge_storage = []\n",
    "for i in storage:\n",
    "    for j in storage:\n",
    "        if i[\"appno\"] == j[\"appno\"]:\n",
    "            pass\n",
    "        else:\n",
    "            pattern = i['appno']\n",
    "            counts = re.findall(pattern, j[\"text\"], flags=False)\n",
    "            ncounts = len(counts)\n",
    "            distance = textdistance.jaccard(i['text'], j['text'])\n",
    "            g.add_edge(i[\"appno\"], j[\"appno\"], weight = ncounts, distance = distance)\n"
   ],
   "id": "ebe779aef6d4273c",
   "outputs": [],
   "execution_count": 32
  },
  {
   "metadata": {
    "ExecuteTime": {
     "end_time": "2025-06-24T13:16:34.287759Z",
     "start_time": "2025-06-24T13:16:34.244134Z"
    }
   },
   "cell_type": "code",
   "source": [
    "dump = nx.node_link_data(g)\n",
    "with open(\"data/extraterritorial_cases_3.json\", \"w\") as outfile:\n",
    "    json.dump(dump, outfile)\n"
   ],
   "id": "3fecfa2c51c54228",
   "outputs": [],
   "execution_count": 37
  },
  {
   "metadata": {
    "ExecuteTime": {
     "end_time": "2025-06-24T13:28:09.015174Z",
     "start_time": "2025-06-24T13:28:09.009646Z"
    }
   },
   "cell_type": "code",
   "source": "nx.degree(g, weight=\"weight\")",
   "id": "549539e16acb3e25",
   "outputs": [
    {
     "data": {
      "text/plain": [
       "DegreeView({'3394/03': 0, '15318/89': 0, '5809/08': 5, '51357/07': 6, '13216/05': 19, '25358/12': 0, '43611/11': 3, '1398/03': 3, '43370/04': 9, '27765/09': 4, '53600/20': 3, '36925/07': 7, '24384/19': 6, '3455/05': 0, '22854/20': 1, '48787/99': 13, '47708/08': 5, '38263/08': 5, '4871/16': 1, '35763/97': 14, '39630/09': 4, '11138/10': 3, '40167/06': 5, '8675/15': 2})"
      ]
     },
     "execution_count": 39,
     "metadata": {},
     "output_type": "execute_result"
    }
   ],
   "execution_count": 39
  },
  {
   "metadata": {
    "ExecuteTime": {
     "end_time": "2025-06-24T13:28:25.409525Z",
     "start_time": "2025-06-24T13:28:25.405454Z"
    }
   },
   "cell_type": "code",
   "source": "nx.degree(g, weight=\"distance\")\n",
   "id": "20a096c8ab20eaef",
   "outputs": [
    {
     "data": {
      "text/plain": [
       "DegreeView({'3394/03': 0.08060753309608937, '15318/89': 9.41452278408284, '5809/08': 11.751728113444699, '51357/07': 13.035417306277658, '13216/05': 11.60364588135044, '25358/12': 13.337879909089205, '43611/11': 13.340195005150083, '1398/03': 10.631047402990058, '43370/04': 12.980155244855519, '27765/09': 13.903663250498226, '53600/20': 8.264409965736165, '36925/07': 13.92010472636949, '24384/19': 13.526822596234132, '3455/05': 13.930139852526828, '22854/20': 8.073730750066408, '48787/99': 8.589468538175481, '47708/08': 13.942191351978643, '38263/08': 7.905115880346362, '4871/16': 13.985805403073384, '35763/97': 7.471502983150614, '39630/09': 13.764516436749048, '11138/10': 12.85256556934492, '40167/06': 12.26285858258719, '8675/15': 13.317810922581645})"
      ]
     },
     "execution_count": 40,
     "metadata": {},
     "output_type": "execute_result"
    }
   ],
   "execution_count": 40
  },
  {
   "metadata": {},
   "cell_type": "code",
   "outputs": [],
   "execution_count": null,
   "source": "",
   "id": "be42c7ab257a1779"
  }
 ],
 "metadata": {
  "kernelspec": {
   "display_name": "Python 3",
   "language": "python",
   "name": "python3"
  },
  "language_info": {
   "codemirror_mode": {
    "name": "ipython",
    "version": 2
   },
   "file_extension": ".py",
   "mimetype": "text/x-python",
   "name": "python",
   "nbconvert_exporter": "python",
   "pygments_lexer": "ipython2",
   "version": "2.7.6"
  }
 },
 "nbformat": 4,
 "nbformat_minor": 5
}
