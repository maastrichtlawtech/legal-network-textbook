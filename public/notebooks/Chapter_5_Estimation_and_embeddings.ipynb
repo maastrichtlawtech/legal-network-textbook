{
 "cells": [
  {
   "metadata": {},
   "cell_type": "markdown",
   "source": [
    "## 6. Estimation and embeddings\n",
    "\n",
    "Covers\n",
    "\n",
    "* Bootstrap network metrics\n",
    "* Confidence intervals\n",
    "* Hypothesis testing\n",
    "* Embeddings (eigendecomposition, node2vec, graph2vec)"
   ],
   "id": "323e404a9ee0d405"
  },
  {
   "metadata": {},
   "cell_type": "code",
   "outputs": [],
   "execution_count": null,
   "source": "",
   "id": "891b09f3703d75fc"
  }
 ],
 "metadata": {
  "kernelspec": {
   "display_name": "Python 3",
   "language": "python",
   "name": "python3"
  },
  "language_info": {
   "codemirror_mode": {
    "name": "ipython",
    "version": 2
   },
   "file_extension": ".py",
   "mimetype": "text/x-python",
   "name": "python",
   "nbconvert_exporter": "python",
   "pygments_lexer": "ipython2",
   "version": "2.7.6"
  }
 },
 "nbformat": 4,
 "nbformat_minor": 5
}
